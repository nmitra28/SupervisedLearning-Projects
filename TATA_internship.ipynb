{
 "cells": [
  {
   "cell_type": "code",
   "execution_count": 54,
   "metadata": {},
   "outputs": [],
   "source": [
    "from warnings import filterwarnings\n",
    "filterwarnings('ignore')\n"
   ]
  },
  {
   "cell_type": "code",
   "execution_count": 55,
   "metadata": {},
   "outputs": [],
   "source": [
    "#importing all neccesary packages\n",
    "#setting the style and colour of the plot to be created\n",
    "import pandas as pd\n",
    "import numpy as np\n",
    "from sklearn import preprocessing\n",
    "from sklearn import metrics\n",
    "from sklearn.preprocessing import LabelEncoder \n",
    "import matplotlib.pyplot as plt \n",
    "plt.rc(\"font\", size=14)\n",
    "from sklearn.linear_model import LogisticRegression\n",
    "from sklearn.model_selection import train_test_split\n",
    "from sklearn.feature_selection import RFE, f_regression\n",
    "from sklearn.linear_model import (LinearRegression)\n",
    "from sklearn.preprocessing import MinMaxScaler\n",
    "from sklearn.ensemble import RandomForestRegressor\n",
    "import seaborn as sns\n",
    "sns.set(style=\"white\")\n",
    "sns.set(style=\"whitegrid\", color_codes=True)\n",
    "\n"
   ]
  },
  {
   "cell_type": "markdown",
   "metadata": {},
   "source": [
    "#### Data Cleaning and Exploratory Analysis"
   ]
  },
  {
   "cell_type": "code",
   "execution_count": 56,
   "metadata": {},
   "outputs": [],
   "source": [
    "#accessing all datasets and storing them\n",
    "dataset1= \"Att18.xlsx\"\n",
    "dataset2=\"Att19.xlsx\"\n",
    "dataset3=\"Drop18.xlsx\"\n",
    "dataset4=\"Drop19.xlsx\"\n",
    "#reading the datasets using pandas and storing in different dataframes\n",
    "df1= pd.read_excel(dataset1)\n",
    "df2= pd.read_excel(dataset2)\n",
    "df3= pd.read_excel(dataset3)\n",
    "df4= pd.read_excel(dataset4)\n",
    "#joining all dataframes into one\n",
    "dataframe=[df1,df2,df3,df4]\n",
    "df=pd.concat(dataframe, ignore_index=True, sort =False)\n"
   ]
  },
  {
   "cell_type": "code",
   "execution_count": 57,
   "metadata": {},
   "outputs": [
    {
     "data": {
      "text/html": [
       "<div>\n",
       "<style scoped>\n",
       "    .dataframe tbody tr th:only-of-type {\n",
       "        vertical-align: middle;\n",
       "    }\n",
       "\n",
       "    .dataframe tbody tr th {\n",
       "        vertical-align: top;\n",
       "    }\n",
       "\n",
       "    .dataframe thead th {\n",
       "        text-align: right;\n",
       "    }\n",
       "</style>\n",
       "<table border=\"1\" class=\"dataframe\">\n",
       "  <thead>\n",
       "    <tr style=\"text-align: right;\">\n",
       "      <th></th>\n",
       "      <th>S.No.</th>\n",
       "      <th>Expert Group</th>\n",
       "      <th>Section Code</th>\n",
       "      <th>Reference No.</th>\n",
       "      <th>Course Code</th>\n",
       "      <th>Course Description</th>\n",
       "      <th>Course Type</th>\n",
       "      <th>Program Type</th>\n",
       "      <th>Start Date</th>\n",
       "      <th>End Date</th>\n",
       "      <th>...</th>\n",
       "      <th>Superior Designation</th>\n",
       "      <th>Superior level</th>\n",
       "      <th>Training Coordinator</th>\n",
       "      <th>Program Director</th>\n",
       "      <th>BHR P.No.</th>\n",
       "      <th>BHR Name</th>\n",
       "      <th>Status</th>\n",
       "      <th>Call Count</th>\n",
       "      <th>Pass/Fail</th>\n",
       "      <th>Unnamed: 0</th>\n",
       "    </tr>\n",
       "  </thead>\n",
       "  <tbody>\n",
       "    <tr>\n",
       "      <th>0</th>\n",
       "      <td>1</td>\n",
       "      <td>RM</td>\n",
       "      <td>JBD</td>\n",
       "      <td>PJEE181701</td>\n",
       "      <td>PJEE18</td>\n",
       "      <td>Electrical Safety and SDL Trailing Cable handling</td>\n",
       "      <td>Request</td>\n",
       "      <td>Safety</td>\n",
       "      <td>26-04-2017</td>\n",
       "      <td>26-04-2017</td>\n",
       "      <td>...</td>\n",
       "      <td>NaN</td>\n",
       "      <td>NaN</td>\n",
       "      <td>Vishal Goyal</td>\n",
       "      <td>Gauri Shankar Tiwary</td>\n",
       "      <td>163529.0</td>\n",
       "      <td>Mitchell Savio Hembram</td>\n",
       "      <td>Attended</td>\n",
       "      <td>1.0</td>\n",
       "      <td>NaN</td>\n",
       "      <td>NaN</td>\n",
       "    </tr>\n",
       "    <tr>\n",
       "      <th>1</th>\n",
       "      <td>2</td>\n",
       "      <td>RM</td>\n",
       "      <td>JBD</td>\n",
       "      <td>PJEE181701</td>\n",
       "      <td>PJEE18</td>\n",
       "      <td>Electrical Safety and SDL Trailing Cable handling</td>\n",
       "      <td>Request</td>\n",
       "      <td>Safety</td>\n",
       "      <td>26-04-2017</td>\n",
       "      <td>26-04-2017</td>\n",
       "      <td>...</td>\n",
       "      <td>NaN</td>\n",
       "      <td>NaN</td>\n",
       "      <td>Basant Kumar Singh</td>\n",
       "      <td>Gauri Shankar Tiwary</td>\n",
       "      <td>197083.0</td>\n",
       "      <td>Arpit Agarwal</td>\n",
       "      <td>Attended</td>\n",
       "      <td>1.0</td>\n",
       "      <td>NaN</td>\n",
       "      <td>NaN</td>\n",
       "    </tr>\n",
       "    <tr>\n",
       "      <th>2</th>\n",
       "      <td>3</td>\n",
       "      <td>RM</td>\n",
       "      <td>JBD</td>\n",
       "      <td>PJEE181701</td>\n",
       "      <td>PJEE18</td>\n",
       "      <td>Electrical Safety and SDL Trailing Cable handling</td>\n",
       "      <td>Request</td>\n",
       "      <td>Safety</td>\n",
       "      <td>26-04-2017</td>\n",
       "      <td>26-04-2017</td>\n",
       "      <td>...</td>\n",
       "      <td>NaN</td>\n",
       "      <td>NaN</td>\n",
       "      <td>Saheb Ram Mahto</td>\n",
       "      <td>Gauri Shankar Tiwary</td>\n",
       "      <td>197834.0</td>\n",
       "      <td>Maradana Rajesh</td>\n",
       "      <td>Attended</td>\n",
       "      <td>1.0</td>\n",
       "      <td>NaN</td>\n",
       "      <td>NaN</td>\n",
       "    </tr>\n",
       "    <tr>\n",
       "      <th>3</th>\n",
       "      <td>4</td>\n",
       "      <td>RM</td>\n",
       "      <td>JBD</td>\n",
       "      <td>PJEE181701</td>\n",
       "      <td>PJEE18</td>\n",
       "      <td>Electrical Safety and SDL Trailing Cable handling</td>\n",
       "      <td>Request</td>\n",
       "      <td>Safety</td>\n",
       "      <td>26-04-2017</td>\n",
       "      <td>26-04-2017</td>\n",
       "      <td>...</td>\n",
       "      <td>NaN</td>\n",
       "      <td>NaN</td>\n",
       "      <td>Mrinal Kanti Khan</td>\n",
       "      <td>Gauri Shankar Tiwary</td>\n",
       "      <td>163529.0</td>\n",
       "      <td>Mitchell Savio Hembram</td>\n",
       "      <td>Attended</td>\n",
       "      <td>1.0</td>\n",
       "      <td>NaN</td>\n",
       "      <td>NaN</td>\n",
       "    </tr>\n",
       "    <tr>\n",
       "      <th>4</th>\n",
       "      <td>5</td>\n",
       "      <td>RM</td>\n",
       "      <td>SUK</td>\n",
       "      <td>SKL0011702</td>\n",
       "      <td>SKL001</td>\n",
       "      <td>O.E.M. Training to Dumper Operator of Vendors</td>\n",
       "      <td>Request</td>\n",
       "      <td>Other Program</td>\n",
       "      <td>05-04-2017</td>\n",
       "      <td>06-04-2017</td>\n",
       "      <td>...</td>\n",
       "      <td>NaN</td>\n",
       "      <td>NaN</td>\n",
       "      <td>MD  KALIM</td>\n",
       "      <td>MD  KALIM</td>\n",
       "      <td>163519.0</td>\n",
       "      <td>Swarup Prakash Sahoo</td>\n",
       "      <td>Attended</td>\n",
       "      <td>1.0</td>\n",
       "      <td>NaN</td>\n",
       "      <td>NaN</td>\n",
       "    </tr>\n",
       "  </tbody>\n",
       "</table>\n",
       "<p>5 rows × 36 columns</p>\n",
       "</div>"
      ],
      "text/plain": [
       "   S.No. Expert Group Section Code Reference No. Course Code  \\\n",
       "0      1           RM          JBD    PJEE181701      PJEE18   \n",
       "1      2           RM          JBD    PJEE181701      PJEE18   \n",
       "2      3           RM          JBD    PJEE181701      PJEE18   \n",
       "3      4           RM          JBD    PJEE181701      PJEE18   \n",
       "4      5           RM          SUK    SKL0011702      SKL001   \n",
       "\n",
       "                                  Course Description Course Type  \\\n",
       "0  Electrical Safety and SDL Trailing Cable handling     Request   \n",
       "1  Electrical Safety and SDL Trailing Cable handling     Request   \n",
       "2  Electrical Safety and SDL Trailing Cable handling     Request   \n",
       "3  Electrical Safety and SDL Trailing Cable handling     Request   \n",
       "4      O.E.M. Training to Dumper Operator of Vendors     Request   \n",
       "\n",
       "    Program Type  Start Date    End Date  ...  Superior Designation  \\\n",
       "0         Safety  26-04-2017  26-04-2017  ...                   NaN   \n",
       "1         Safety  26-04-2017  26-04-2017  ...                   NaN   \n",
       "2         Safety  26-04-2017  26-04-2017  ...                   NaN   \n",
       "3         Safety  26-04-2017  26-04-2017  ...                   NaN   \n",
       "4  Other Program  05-04-2017  06-04-2017  ...                   NaN   \n",
       "\n",
       "  Superior level Training Coordinator      Program Director  BHR P.No.  \\\n",
       "0            NaN         Vishal Goyal  Gauri Shankar Tiwary   163529.0   \n",
       "1            NaN   Basant Kumar Singh  Gauri Shankar Tiwary   197083.0   \n",
       "2            NaN      Saheb Ram Mahto  Gauri Shankar Tiwary   197834.0   \n",
       "3            NaN    Mrinal Kanti Khan  Gauri Shankar Tiwary   163529.0   \n",
       "4            NaN            MD  KALIM             MD  KALIM   163519.0   \n",
       "\n",
       "                 BHR Name    Status Call Count Pass/Fail Unnamed: 0  \n",
       "0  Mitchell Savio Hembram  Attended        1.0       NaN        NaN  \n",
       "1           Arpit Agarwal  Attended        1.0       NaN        NaN  \n",
       "2         Maradana Rajesh  Attended        1.0       NaN        NaN  \n",
       "3  Mitchell Savio Hembram  Attended        1.0       NaN        NaN  \n",
       "4    Swarup Prakash Sahoo  Attended        1.0       NaN        NaN  \n",
       "\n",
       "[5 rows x 36 columns]"
      ]
     },
     "execution_count": 57,
     "metadata": {},
     "output_type": "execute_result"
    }
   ],
   "source": [
    "df.head()"
   ]
  },
  {
   "cell_type": "code",
   "execution_count": 58,
   "metadata": {},
   "outputs": [
    {
     "data": {
      "text/plain": [
       "S.No.                       0\n",
       "Expert Group                0\n",
       "Section Code                0\n",
       "Reference No.               0\n",
       "Course Code                 0\n",
       "Course Description          0\n",
       "Course Type                 0\n",
       "Program Type             9294\n",
       "Start Date                  0\n",
       "End Date                    0\n",
       "No. of Days                 0\n",
       "Agency                      0\n",
       "Nomination Source       23107\n",
       "Gender                      0\n",
       "Age                         1\n",
       "Designation              1166\n",
       "Grade / Level             151\n",
       "Category                    0\n",
       "Cadre                   19425\n",
       "Executive Head             25\n",
       "Group                    4133\n",
       "Department                 41\n",
       "Section                  5830\n",
       "Employee Location           0\n",
       "Superior P.No.          78964\n",
       "Superior Name           78964\n",
       "Superior Designation    78991\n",
       "Superior level          78964\n",
       "Training Coordinator    18362\n",
       "Program Director           11\n",
       "BHR P.No.                9773\n",
       "BHR Name                 9773\n",
       "Status                      0\n",
       "Call Count               3911\n",
       "Pass/Fail               87178\n",
       "Unnamed: 0              90871\n",
       "dtype: int64"
      ]
     },
     "execution_count": 58,
     "metadata": {},
     "output_type": "execute_result"
    }
   ],
   "source": [
    "df.isnull().sum()"
   ]
  },
  {
   "cell_type": "code",
   "execution_count": 59,
   "metadata": {
    "scrolled": true
   },
   "outputs": [
    {
     "data": {
      "text/plain": [
       "<matplotlib.axes._subplots.AxesSubplot at 0x1fafac09cd0>"
      ]
     },
     "execution_count": 59,
     "metadata": {},
     "output_type": "execute_result"
    },
    {
     "data": {
      "image/png": "[encoded data removed]",
      "text/plain": [
       "<Figure size 432x288 with 1 Axes>"
      ]
     },
     "metadata": {},
     "output_type": "display_data"
    }
   ],
   "source": [
    "#showing the attributes that have missing data\n",
    "sns.heatmap(df.isnull(),yticklabels=False,cbar=False,cmap='viridis')"
   ]
  },
  {
   "cell_type": "code",
   "execution_count": 60,
   "metadata": {},
   "outputs": [
    {
     "data": {
      "image/png": "[encoded data removed]",
      "text/plain": [
       "<Figure size 432x288 with 9 Axes>"
      ]
     },
     "metadata": {},
     "output_type": "display_data"
    }
   ],
   "source": [
    "#these plots are to see the varaition in data\n",
    "df.hist()\n",
    "plt.tight_layout()\n",
    "plt.show()\n"
   ]
  },
  {
   "cell_type": "code",
   "execution_count": 61,
   "metadata": {
    "scrolled": false
   },
   "outputs": [
    {
     "data": {
      "image/png": "[encoded data removed]",
      "text/plain": [
       "<Figure size 576x360 with 1 Axes>"
      ]
     },
     "metadata": {},
     "output_type": "display_data"
    }
   ],
   "source": [
    "#count-plot of people who attended based on course type\n",
    "plt.figure(figsize=(8,5)) # this creates a figure 8 inch wide, 4 inch high\n",
    "sns.countplot(x='Status', hue='Program Type', data=df) \n",
    "plt.show()"
   ]
  },
  {
   "cell_type": "code",
   "execution_count": 62,
   "metadata": {},
   "outputs": [
    {
     "data": {
      "text/plain": [
       "<matplotlib.axes._subplots.AxesSubplot at 0x1fafb816ee0>"
      ]
     },
     "execution_count": 62,
     "metadata": {},
     "output_type": "execute_result"
    },
    {
     "data": {
      "image/png": "[encoded data removed]",
      "text/plain": [
       "<Figure size 432x288 with 1 Axes>"
      ]
     },
     "metadata": {},
     "output_type": "display_data"
    }
   ],
   "source": [
    "#count-plot of people who attended based on course type\n",
    "sns.countplot(x='Status', hue='Course Type', data=df, palette='hls')\n"
   ]
  },
  {
   "cell_type": "code",
   "execution_count": 63,
   "metadata": {},
   "outputs": [
    {
     "data": {
      "text/plain": [
       "<matplotlib.axes._subplots.AxesSubplot at 0x1faf9c02040>"
      ]
     },
     "execution_count": 63,
     "metadata": {},
     "output_type": "execute_result"
    },
    {
     "data": {
      "image/png": "[encoded data removed]",
      "text/plain": [
       "<Figure size 432x288 with 1 Axes>"
      ]
     },
     "metadata": {},
     "output_type": "display_data"
    }
   ],
   "source": [
    "sns.countplot(x='Status', hue='Nomination Source', data=df, palette='hls')"
   ]
  },
  {
   "cell_type": "code",
   "execution_count": 64,
   "metadata": {
    "scrolled": true
   },
   "outputs": [
    {
     "data": {
      "text/plain": [
       "Attended    90871\n",
       "Dropout      7140\n",
       "Name: Status, dtype: int64"
      ]
     },
     "execution_count": 64,
     "metadata": {},
     "output_type": "execute_result"
    }
   ],
   "source": [
    "df['Status'].value_counts()"
   ]
  },
  {
   "cell_type": "markdown",
   "metadata": {},
   "source": [
    "The following attributes were chosen in accordance wth my analysis above such as 'Superior Name', 'Pass/Fail' and others after talking to my supervisor such as name."
   ]
  },
  {
   "cell_type": "code",
   "execution_count": 65,
   "metadata": {},
   "outputs": [],
   "source": [
    "to_drop= ['S.No.','Start Date','End Date','Superior Designation','Superior level', 'Training Coordinator','Cadre','Superior P.No.', 'Superior Name', 'BHR P.No.', 'BHR Name', 'Pass/Fail', 'Unnamed: 0', 'Call Count']\n",
    "df.drop(to_drop, inplace=True, axis=1)"
   ]
  },
  {
   "cell_type": "code",
   "execution_count": 66,
   "metadata": {},
   "outputs": [
    {
     "data": {
      "text/html": [
       "<div>\n",
       "<style scoped>\n",
       "    .dataframe tbody tr th:only-of-type {\n",
       "        vertical-align: middle;\n",
       "    }\n",
       "\n",
       "    .dataframe tbody tr th {\n",
       "        vertical-align: top;\n",
       "    }\n",
       "\n",
       "    .dataframe thead th {\n",
       "        text-align: right;\n",
       "    }\n",
       "</style>\n",
       "<table border=\"1\" class=\"dataframe\">\n",
       "  <thead>\n",
       "    <tr style=\"text-align: right;\">\n",
       "      <th></th>\n",
       "      <th>Expert Group</th>\n",
       "      <th>Section Code</th>\n",
       "      <th>Reference No.</th>\n",
       "      <th>Course Code</th>\n",
       "      <th>Course Description</th>\n",
       "      <th>Course Type</th>\n",
       "      <th>Program Type</th>\n",
       "      <th>No. of Days</th>\n",
       "      <th>Agency</th>\n",
       "      <th>Nomination Source</th>\n",
       "      <th>...</th>\n",
       "      <th>Designation</th>\n",
       "      <th>Grade / Level</th>\n",
       "      <th>Category</th>\n",
       "      <th>Executive Head</th>\n",
       "      <th>Group</th>\n",
       "      <th>Department</th>\n",
       "      <th>Section</th>\n",
       "      <th>Employee Location</th>\n",
       "      <th>Program Director</th>\n",
       "      <th>Status</th>\n",
       "    </tr>\n",
       "  </thead>\n",
       "  <tbody>\n",
       "    <tr>\n",
       "      <th>0</th>\n",
       "      <td>RM</td>\n",
       "      <td>JBD</td>\n",
       "      <td>PJEE181701</td>\n",
       "      <td>PJEE18</td>\n",
       "      <td>Electrical Safety and SDL Trailing Cable handling</td>\n",
       "      <td>Request</td>\n",
       "      <td>Safety</td>\n",
       "      <td>1</td>\n",
       "      <td>PTI</td>\n",
       "      <td>Special Courses</td>\n",
       "      <td>...</td>\n",
       "      <td>SDL CREW</td>\n",
       "      <td>PB 01</td>\n",
       "      <td>WRK</td>\n",
       "      <td>Raw Materials</td>\n",
       "      <td>Jamadoba Group</td>\n",
       "      <td>Digwadih Colliery</td>\n",
       "      <td>Operations Digwadih</td>\n",
       "      <td>Jharia</td>\n",
       "      <td>Gauri Shankar Tiwary</td>\n",
       "      <td>Attended</td>\n",
       "    </tr>\n",
       "    <tr>\n",
       "      <th>1</th>\n",
       "      <td>RM</td>\n",
       "      <td>JBD</td>\n",
       "      <td>PJEE181701</td>\n",
       "      <td>PJEE18</td>\n",
       "      <td>Electrical Safety and SDL Trailing Cable handling</td>\n",
       "      <td>Request</td>\n",
       "      <td>Safety</td>\n",
       "      <td>1</td>\n",
       "      <td>PTI</td>\n",
       "      <td>Special Courses</td>\n",
       "      <td>...</td>\n",
       "      <td>SDL CREW</td>\n",
       "      <td>MC 01</td>\n",
       "      <td>SUP</td>\n",
       "      <td>Raw Materials</td>\n",
       "      <td>Jamadoba Group</td>\n",
       "      <td>6&amp;7 Pits Colliery</td>\n",
       "      <td>Operations 6&amp;7 Pits</td>\n",
       "      <td>Jharia</td>\n",
       "      <td>Gauri Shankar Tiwary</td>\n",
       "      <td>Attended</td>\n",
       "    </tr>\n",
       "    <tr>\n",
       "      <th>2</th>\n",
       "      <td>RM</td>\n",
       "      <td>JBD</td>\n",
       "      <td>PJEE181701</td>\n",
       "      <td>PJEE18</td>\n",
       "      <td>Electrical Safety and SDL Trailing Cable handling</td>\n",
       "      <td>Request</td>\n",
       "      <td>Safety</td>\n",
       "      <td>1</td>\n",
       "      <td>PTI</td>\n",
       "      <td>Special Courses</td>\n",
       "      <td>...</td>\n",
       "      <td>BANKSMAN</td>\n",
       "      <td>DC 04</td>\n",
       "      <td>WRK</td>\n",
       "      <td>Raw Materials</td>\n",
       "      <td>Sijua Group</td>\n",
       "      <td>Bhelatand Colliery</td>\n",
       "      <td>Operations Bhelatand</td>\n",
       "      <td>Jharia</td>\n",
       "      <td>Gauri Shankar Tiwary</td>\n",
       "      <td>Attended</td>\n",
       "    </tr>\n",
       "    <tr>\n",
       "      <th>3</th>\n",
       "      <td>RM</td>\n",
       "      <td>JBD</td>\n",
       "      <td>PJEE181701</td>\n",
       "      <td>PJEE18</td>\n",
       "      <td>Electrical Safety and SDL Trailing Cable handling</td>\n",
       "      <td>Request</td>\n",
       "      <td>Safety</td>\n",
       "      <td>1</td>\n",
       "      <td>PTI</td>\n",
       "      <td>Special Courses</td>\n",
       "      <td>...</td>\n",
       "      <td>SDL CREW</td>\n",
       "      <td>PM 01</td>\n",
       "      <td>WRK</td>\n",
       "      <td>Raw Materials</td>\n",
       "      <td>Jamadoba Group</td>\n",
       "      <td>Sijua Colliery</td>\n",
       "      <td>Operations Digwadih</td>\n",
       "      <td>Jharia</td>\n",
       "      <td>Gauri Shankar Tiwary</td>\n",
       "      <td>Attended</td>\n",
       "    </tr>\n",
       "    <tr>\n",
       "      <th>4</th>\n",
       "      <td>RM</td>\n",
       "      <td>SUK</td>\n",
       "      <td>SKL0011702</td>\n",
       "      <td>SKL001</td>\n",
       "      <td>O.E.M. Training to Dumper Operator of Vendors</td>\n",
       "      <td>Request</td>\n",
       "      <td>Other Program</td>\n",
       "      <td>2</td>\n",
       "      <td>VTC</td>\n",
       "      <td>Right Skill</td>\n",
       "      <td>...</td>\n",
       "      <td>SENIOR MACK OPERATOR</td>\n",
       "      <td>VRO08</td>\n",
       "      <td>WRK</td>\n",
       "      <td>Raw Materials</td>\n",
       "      <td>FAM</td>\n",
       "      <td>Sukinda Chromite Mine</td>\n",
       "      <td>Mining Operation</td>\n",
       "      <td>Sukinda</td>\n",
       "      <td>MD  KALIM</td>\n",
       "      <td>Attended</td>\n",
       "    </tr>\n",
       "  </tbody>\n",
       "</table>\n",
       "<p>5 rows × 22 columns</p>\n",
       "</div>"
      ],
      "text/plain": [
       "  Expert Group Section Code Reference No. Course Code  \\\n",
       "0           RM          JBD    PJEE181701      PJEE18   \n",
       "1           RM          JBD    PJEE181701      PJEE18   \n",
       "2           RM          JBD    PJEE181701      PJEE18   \n",
       "3           RM          JBD    PJEE181701      PJEE18   \n",
       "4           RM          SUK    SKL0011702      SKL001   \n",
       "\n",
       "                                  Course Description Course Type  \\\n",
       "0  Electrical Safety and SDL Trailing Cable handling     Request   \n",
       "1  Electrical Safety and SDL Trailing Cable handling     Request   \n",
       "2  Electrical Safety and SDL Trailing Cable handling     Request   \n",
       "3  Electrical Safety and SDL Trailing Cable handling     Request   \n",
       "4      O.E.M. Training to Dumper Operator of Vendors     Request   \n",
       "\n",
       "    Program Type  No. of Days Agency Nomination Source  ...  \\\n",
       "0         Safety            1    PTI   Special Courses  ...   \n",
       "1         Safety            1    PTI   Special Courses  ...   \n",
       "2         Safety            1    PTI   Special Courses  ...   \n",
       "3         Safety            1    PTI   Special Courses  ...   \n",
       "4  Other Program            2    VTC       Right Skill  ...   \n",
       "\n",
       "            Designation  Grade / Level Category Executive Head  \\\n",
       "0              SDL CREW          PB 01      WRK  Raw Materials   \n",
       "1              SDL CREW          MC 01      SUP  Raw Materials   \n",
       "2              BANKSMAN          DC 04      WRK  Raw Materials   \n",
       "3              SDL CREW          PM 01      WRK  Raw Materials   \n",
       "4  SENIOR MACK OPERATOR          VRO08      WRK  Raw Materials   \n",
       "\n",
       "            Group             Department               Section  \\\n",
       "0  Jamadoba Group      Digwadih Colliery   Operations Digwadih   \n",
       "1  Jamadoba Group      6&7 Pits Colliery   Operations 6&7 Pits   \n",
       "2     Sijua Group     Bhelatand Colliery  Operations Bhelatand   \n",
       "3  Jamadoba Group         Sijua Colliery   Operations Digwadih   \n",
       "4             FAM  Sukinda Chromite Mine      Mining Operation   \n",
       "\n",
       "  Employee Location      Program Director    Status  \n",
       "0            Jharia  Gauri Shankar Tiwary  Attended  \n",
       "1            Jharia  Gauri Shankar Tiwary  Attended  \n",
       "2            Jharia  Gauri Shankar Tiwary  Attended  \n",
       "3            Jharia  Gauri Shankar Tiwary  Attended  \n",
       "4           Sukinda             MD  KALIM  Attended  \n",
       "\n",
       "[5 rows x 22 columns]"
      ]
     },
     "execution_count": 66,
     "metadata": {},
     "output_type": "execute_result"
    }
   ],
   "source": [
    "df.head()"
   ]
  },
  {
   "cell_type": "code",
   "execution_count": 67,
   "metadata": {
    "scrolled": true
   },
   "outputs": [
    {
     "data": {
      "text/plain": [
       "<matplotlib.axes._subplots.AxesSubplot at 0x1fafad355e0>"
      ]
     },
     "execution_count": 67,
     "metadata": {},
     "output_type": "execute_result"
    },
    {
     "data": {
      "image/png": "[encoded data removed]",
      "text/plain": [
       "<Figure size 432x288 with 1 Axes>"
      ]
     },
     "metadata": {},
     "output_type": "display_data"
    }
   ],
   "source": [
    "#showing the attributes that have missing data\n",
    "sns.heatmap(df.isnull(),yticklabels=False,cbar=False,cmap='viridis')\n"
   ]
  },
  {
   "cell_type": "code",
   "execution_count": 68,
   "metadata": {},
   "outputs": [],
   "source": [
    "#df.drop(['Course Type', 'Program Type', 'Agency', 'Gender', 'Category'], inplace=True, axis=1)"
   ]
  },
  {
   "cell_type": "code",
   "execution_count": 69,
   "metadata": {
    "scrolled": false
   },
   "outputs": [
    {
     "data": {
      "text/plain": [
       "Expert Group           object\n",
       "Section Code           object\n",
       "Reference No.          object\n",
       "Course Code            object\n",
       "Course Description     object\n",
       "Course Type            object\n",
       "Program Type           object\n",
       "No. of Days             int64\n",
       "Agency                 object\n",
       "Nomination Source      object\n",
       "Gender                 object\n",
       "Age                   float64\n",
       "Designation            object\n",
       "Grade / Level          object\n",
       "Category               object\n",
       "Executive Head         object\n",
       "Group                  object\n",
       "Department             object\n",
       "Section                object\n",
       "Employee Location      object\n",
       "Program Director       object\n",
       "Status                 object\n",
       "dtype: object"
      ]
     },
     "execution_count": 69,
     "metadata": {},
     "output_type": "execute_result"
    }
   ],
   "source": [
    "df.dtypes\n"
   ]
  },
  {
   "cell_type": "code",
   "execution_count": 70,
   "metadata": {
    "scrolled": false
   },
   "outputs": [
    {
     "data": {
      "text/plain": [
       "Expert Group              0\n",
       "Section Code              0\n",
       "Reference No.             0\n",
       "Course Code               0\n",
       "Course Description        0\n",
       "Course Type               0\n",
       "Program Type           9294\n",
       "No. of Days               0\n",
       "Agency                    0\n",
       "Nomination Source     23107\n",
       "Gender                    0\n",
       "Age                       1\n",
       "Designation            1166\n",
       "Grade / Level           151\n",
       "Category                  0\n",
       "Executive Head           25\n",
       "Group                  4133\n",
       "Department               41\n",
       "Section                5830\n",
       "Employee Location         0\n",
       "Program Director         11\n",
       "Status                    0\n",
       "dtype: int64"
      ]
     },
     "execution_count": 70,
     "metadata": {},
     "output_type": "execute_result"
    }
   ],
   "source": [
    "df.isnull().sum()"
   ]
  },
  {
   "cell_type": "markdown",
   "metadata": {},
   "source": [
    "I used Label encoders to make model implementation easy. "
   ]
  },
  {
   "cell_type": "code",
   "execution_count": 71,
   "metadata": {},
   "outputs": [],
   "source": [
    "#Encode target labels with value between 0 and n_classes-1.\n",
    "le = LabelEncoder()\n",
    "#use of label encoder "
   ]
  },
  {
   "cell_type": "code",
   "execution_count": 72,
   "metadata": {},
   "outputs": [],
   "source": [
    "df['Program Type'] = le.fit_transform(df['Program Type'].astype(str))\n",
    "df['Designation'] = le.fit_transform(df['Designation'].astype(str))\n",
    "df['Grade / Level'] = le.fit_transform(df['Grade / Level'].astype(str))\n",
    "df['Executive Head'] = le.fit_transform(df['Executive Head'].astype(str))\n",
    "df['Group'] = le.fit_transform(df['Group'].astype(str))\n",
    "df['Department'] = le.fit_transform(df['Department'].astype(str))\n",
    "df['Section'] = le.fit_transform(df['Section'].astype(str))\n",
    "df['Program Director'] = le.fit_transform(df['Program Director'].astype(str))\n",
    "df['Nomination Source'] = le.fit_transform(df['Nomination Source'].astype(str))"
   ]
  },
  {
   "cell_type": "markdown",
   "metadata": {},
   "source": [
    "# Using Label Encoder to convert the categorical data to Numeric Data"
   ]
  },
  {
   "cell_type": "code",
   "execution_count": 73,
   "metadata": {},
   "outputs": [
    {
     "name": "stdout",
     "output_type": "stream",
     "text": [
      "       Expert Group  Section Code  Reference No.  Course Code  \\\n",
      "0                10            10           2712          568   \n",
      "1                10            10           2712          568   \n",
      "2                10            10           2712          568   \n",
      "3                10            10           2712          568   \n",
      "4                10            26           3826          862   \n",
      "...             ...           ...            ...          ...   \n",
      "98006             8             5           1549          218   \n",
      "98007             0             4           4665         1023   \n",
      "98008             0             2           3599          802   \n",
      "98009             4            13           4773         1085   \n",
      "98010             4            13           4759         1083   \n",
      "\n",
      "       Course Description  Course Type  Program Type  No. of Days  Agency  \\\n",
      "0                     311            5             9            0       9   \n",
      "1                     311            5             9            0       9   \n",
      "2                     311            5             9            0       9   \n",
      "3                     311            5             9            0       9   \n",
      "4                     706            5             5            1      12   \n",
      "...                   ...          ...           ...          ...     ...   \n",
      "98006                 271            0            12            4      11   \n",
      "98007                 958            0            12            1      11   \n",
      "98008                 942            0            12            2      11   \n",
      "98009                 776            2             6            0      11   \n",
      "98010                  91            2            12            0      11   \n",
      "\n",
      "       Nomination Source  ...  Designation  Grade / Level  Category  \\\n",
      "0                      9  ...         3292            183         2   \n",
      "1                      9  ...         3292            102         1   \n",
      "2                      9  ...          517             29         2   \n",
      "3                      9  ...         3292            193         2   \n",
      "4                      8  ...         3371            268         2   \n",
      "...                  ...  ...          ...            ...       ...   \n",
      "98006                  1  ...         4276             89         0   \n",
      "98007                  1  ...         4231             89         0   \n",
      "98008                  1  ...         2405             91         0   \n",
      "98009                  3  ...         1786            231         2   \n",
      "98010                  3  ...         1786            231         2   \n",
      "\n",
      "       Executive Head  Group  Department  Section  Employee Location  \\\n",
      "0                  18     37         142      935                 32   \n",
      "1                  18     37           1      931                 32   \n",
      "2                  18     78          48      934                 32   \n",
      "3                  18     37         640      935                 32   \n",
      "4                  18     27         660      743                 62   \n",
      "...               ...    ...         ...      ...                ...   \n",
      "98006              20     48         300      514                 30   \n",
      "98007              20     22         652      598                 30   \n",
      "98008              20     22         368      493                 30   \n",
      "98009              17     23          77      194                 29   \n",
      "98010              17     23         650      506                 29   \n",
      "\n",
      "       Program Director  Status  \n",
      "0                    66       0  \n",
      "1                    66       0  \n",
      "2                    66       0  \n",
      "3                    66       0  \n",
      "4                   108       0  \n",
      "...                 ...     ...  \n",
      "98006               163       1  \n",
      "98007               238       1  \n",
      "98008               199       1  \n",
      "98009               122       1  \n",
      "98010               226       1  \n",
      "\n",
      "[98011 rows x 22 columns]\n"
     ]
    }
   ],
   "source": [
    "# apply \"le.fit_transform\"\n",
    "df_encoded = df.apply(le.fit_transform)\n",
    "print(df_encoded)"
   ]
  },
  {
   "cell_type": "code",
   "execution_count": 74,
   "metadata": {},
   "outputs": [
    {
     "data": {
      "text/plain": [
       "<bound method NDFrame.head of        Expert Group  Section Code  Reference No.  Course Code  \\\n",
       "95296             1            24           4581         1000   \n",
       "81879             9            23           1086          193   \n",
       "58057             4            14           1952          321   \n",
       "78520             2             9            514          131   \n",
       "33738            10            10           3054          652   \n",
       "...             ...           ...            ...          ...   \n",
       "50196             2             9            495          119   \n",
       "84546             2             9            509          126   \n",
       "1859              8             5           3746          828   \n",
       "2286              1            24            194           78   \n",
       "4817              2             9            459          119   \n",
       "\n",
       "       Course Description  Course Type  Program Type  No. of Days  Agency  \\\n",
       "95296                 992            2            12            0      11   \n",
       "81879                 295            5             5            0       3   \n",
       "58057                 273            5             5            0      11   \n",
       "78520                 234            5             9            0      11   \n",
       "33738                 400            6             7            4       9   \n",
       "...                   ...          ...           ...          ...     ...   \n",
       "50196                 227            5             5            0      11   \n",
       "84546                 232            2            11            0      11   \n",
       "1859                  948            5            11            1      11   \n",
       "2286                  925            5            10            0      11   \n",
       "4817                  227            5             5            0      11   \n",
       "\n",
       "       Nomination Source  ...  Designation  Grade / Level  Category  \\\n",
       "95296                  3  ...         3072            165         2   \n",
       "81879                 16  ...         3037            226         2   \n",
       "58057                  7  ...         1789            230         2   \n",
       "78520                  7  ...          996            244         1   \n",
       "33738                 11  ...         3292            193         2   \n",
       "...                  ...  ...          ...            ...       ...   \n",
       "50196                 16  ...         3154             91         0   \n",
       "84546                  7  ...         1823            167         2   \n",
       "1859                  14  ...         3315              8         2   \n",
       "2286                  10  ...         3315              8         2   \n",
       "4817                   7  ...         3865             89         0   \n",
       "\n",
       "       Executive Head  Group  Department  Section  Employee Location  \\\n",
       "95296              21     45         316     1190                 30   \n",
       "81879              17      0         395      778                 29   \n",
       "58057              17     13         645     1296                 29   \n",
       "78520              21     46         692      427                 30   \n",
       "33738              18     37         640      935                 32   \n",
       "...               ...    ...         ...      ...                ...   \n",
       "50196               1     75         633     1277                  7   \n",
       "84546              20     22         299     1201                 30   \n",
       "1859               20     48         369      114                 30   \n",
       "2286               21     45          73     1206                 30   \n",
       "4817               18     87         372      742                 67   \n",
       "\n",
       "       Program Director  Status  \n",
       "95296               234       1  \n",
       "81879                70       0  \n",
       "58057               240       0  \n",
       "78520                52       0  \n",
       "33738               193       0  \n",
       "...                 ...     ...  \n",
       "50196                54       0  \n",
       "84546                52       0  \n",
       "1859                163       0  \n",
       "2286                158       0  \n",
       "4817                 52       0  \n",
       "\n",
       "[98011 rows x 22 columns]>"
      ]
     },
     "execution_count": 74,
     "metadata": {},
     "output_type": "execute_result"
    }
   ],
   "source": [
    "df = df_encoded.reindex(np.random.permutation(df_encoded.index))\n",
    "df.head"
   ]
  },
  {
   "cell_type": "markdown",
   "metadata": {},
   "source": [
    "# Logistic Regression Model"
   ]
  },
  {
   "cell_type": "code",
   "execution_count": 75,
   "metadata": {},
   "outputs": [
    {
     "data": {
      "text/plain": [
       "LogisticRegression()"
      ]
     },
     "execution_count": 75,
     "metadata": {},
     "output_type": "execute_result"
    }
   ],
   "source": [
    "x = df.drop('Status', axis=1)\n",
    "y = df['Status']\n",
    "x_train, x_test, y_train, y_test = train_test_split(x, y, test_size=0.33, random_state=1) \n",
    "#test and train sets created to be tested\n",
    "logmodel = LogisticRegression()\n",
    "logmodel.fit(x_train, y_train)\n",
    "#training my model using train sets\n"
   ]
  },
  {
   "cell_type": "code",
   "execution_count": 76,
   "metadata": {},
   "outputs": [],
   "source": [
    "from sklearn.metrics import classification_report\n",
    "from sklearn.metrics import confusion_matrix,accuracy_score"
   ]
  },
  {
   "cell_type": "markdown",
   "metadata": {},
   "source": [
    "The classification report displays the Precision, Recall , F1  and Support scores for the model."
   ]
  },
  {
   "cell_type": "code",
   "execution_count": 77,
   "metadata": {
    "scrolled": false
   },
   "outputs": [
    {
     "name": "stdout",
     "output_type": "stream",
     "text": [
      "              precision    recall  f1-score   support\n",
      "\n",
      "           0       0.93      1.00      0.96     29964\n",
      "           1       0.12      0.00      0.00      2380\n",
      "\n",
      "    accuracy                           0.93     32344\n",
      "   macro avg       0.52      0.50      0.48     32344\n",
      "weighted avg       0.87      0.93      0.89     32344\n",
      "\n",
      "[[29941    23]\n",
      " [ 2377     3]]\n",
      "0.9257976749938165\n",
      "Accuracy: 0.9257976749938165\n",
      "Precision: 0.11538461538461539\n",
      "Recall: 0.0012605042016806723\n"
     ]
    }
   ],
   "source": [
    "#Precision score means the the level up-to which the prediction made by the model is precise.\n",
    "#Recall is the amount up-to which the model can predict the outcome.\n",
    "#F1 and Support scores are the amount of data tested for the predictions.\n",
    "predictions = logmodel.predict(x_test)\n",
    "print(classification_report(y_test, predictions))\n",
    "print(confusion_matrix(y_test, predictions))\n",
    "print(accuracy_score(y_test, predictions))\n",
    "print(\"Accuracy:\",metrics.accuracy_score(y_test, predictions))\n",
    "print(\"Precision:\",metrics.precision_score(y_test, predictions))\n",
    "print(\"Recall:\",metrics.recall_score(y_test, predictions))"
   ]
  },
  {
   "cell_type": "markdown",
   "metadata": {},
   "source": [
    "The Area Under the Curve (AUC) is the measure of the ability of a classifier to distinguish between classes and is used as a summary of the ROC curve. The higher the AUC, the better the performance of the model at distinguishing between the positive and negative classes. This model is okay."
   ]
  },
  {
   "cell_type": "code",
   "execution_count": 78,
   "metadata": {},
   "outputs": [
    {
     "data": {
      "image/png": "[encoded data removed]",
      "text/plain": [
       "<Figure size 432x288 with 1 Axes>"
      ]
     },
     "metadata": {},
     "output_type": "display_data"
    }
   ],
   "source": [
    "y_pred_proba = logmodel.predict_proba(x_test)[::,1]\n",
    "fpr, tpr, _ = metrics.roc_curve(y_test,  y_pred_proba)\n",
    "auc = metrics.roc_auc_score(y_test, y_pred_proba)\n",
    "plt.plot(fpr,tpr,label=\"data 1, auc=\"+str(auc))\n",
    "plt.legend(loc=4)\n",
    "plt.show()"
   ]
  },
  {
   "cell_type": "markdown",
   "metadata": {},
   "source": [
    "# Decision Tree Model"
   ]
  },
  {
   "cell_type": "code",
   "execution_count": 79,
   "metadata": {},
   "outputs": [],
   "source": [
    "from sklearn import tree\n",
    "model= tree.DecisionTreeClassifier()"
   ]
  },
  {
   "cell_type": "code",
   "execution_count": 81,
   "metadata": {},
   "outputs": [],
   "source": [
    "#Defining Features and lables\n",
    "features= list(df.columns)\n",
    "features.remove('Status')"
   ]
  },
  {
   "cell_type": "code",
   "execution_count": 82,
   "metadata": {},
   "outputs": [],
   "source": [
    "X = df.drop('Status', axis=1)\n",
    "Y = df['Status']\n",
    "X_train, X_test, y_train, y_test = train_test_split( X, Y, test_size = 0.2, random_state = 100)"
   ]
  },
  {
   "cell_type": "code",
   "execution_count": 83,
   "metadata": {
    "scrolled": true
   },
   "outputs": [
    {
     "data": {
      "text/plain": [
       "DecisionTreeClassifier()"
      ]
     },
     "execution_count": 83,
     "metadata": {},
     "output_type": "execute_result"
    }
   ],
   "source": [
    "model.fit(X_train, y_train)"
   ]
  },
  {
   "cell_type": "code",
   "execution_count": 84,
   "metadata": {},
   "outputs": [
    {
     "data": {
      "text/plain": [
       "0.9958679793909095"
      ]
     },
     "execution_count": 84,
     "metadata": {},
     "output_type": "execute_result"
    }
   ],
   "source": [
    "model.score(X_test, y_test)"
   ]
  },
  {
   "cell_type": "code",
   "execution_count": 85,
   "metadata": {
    "scrolled": false
   },
   "outputs": [
    {
     "name": "stdout",
     "output_type": "stream",
     "text": [
      "              precision    recall  f1-score   support\n",
      "\n",
      "           0       1.00      1.00      1.00     18190\n",
      "           1       0.97      0.97      0.97      1413\n",
      "\n",
      "    accuracy                           1.00     19603\n",
      "   macro avg       0.99      0.98      0.98     19603\n",
      "weighted avg       1.00      1.00      1.00     19603\n",
      "\n",
      "[[18152    38]\n",
      " [   43  1370]]\n",
      "0.9958679793909095\n"
     ]
    }
   ],
   "source": [
    "predictions_2 = model.predict(X_test)\n",
    "print(classification_report(y_test, predictions_2))\n",
    "print(confusion_matrix(y_test, predictions_2))\n",
    "print(accuracy_score(y_test, predictions_2))"
   ]
  },
  {
   "cell_type": "code",
   "execution_count": 86,
   "metadata": {
    "scrolled": true
   },
   "outputs": [
    {
     "name": "stdout",
     "output_type": "stream",
     "text": [
      "Accuracy: 0.9958679793909095\n",
      "Precision: 0.9730113636363636\n",
      "Recall: 0.9695682944090588\n"
     ]
    }
   ],
   "source": [
    "print(\"Accuracy:\",metrics.accuracy_score(y_test, predictions_2))\n",
    "print(\"Precision:\",metrics.precision_score(y_test, predictions_2))\n",
    "print(\"Recall:\",metrics.recall_score(y_test, predictions_2))"
   ]
  },
  {
   "cell_type": "markdown",
   "metadata": {},
   "source": [
    "The data above tell us how accurate the model is. The plot below is a ROC curve that plots true positive rate (TPR) against the false positive rate (FPR). The closer the curve is to a 45* angle i.e cut the graph in half, the less accurate it is. "
   ]
  },
  {
   "cell_type": "code",
   "execution_count": 87,
   "metadata": {},
   "outputs": [],
   "source": [
    "from sklearn.metrics import roc_curve\n",
    "from sklearn.metrics import roc_auc_score"
   ]
  },
  {
   "cell_type": "code",
   "execution_count": 88,
   "metadata": {},
   "outputs": [],
   "source": [
    "def plot_roc_curve(fpr, tpr):\n",
    "    plt.plot(fpr, tpr, color='orange', label='ROC')\n",
    "    plt.plot([0, 1], [0, 1], color='darkblue', linestyle='--')\n",
    "    plt.xlabel('False Positive Rate')\n",
    "    plt.ylabel('True Positive Rate')\n",
    "    plt.title('Receiver Operating Characteristic (ROC) Curve')\n",
    "    plt.legend()\n",
    "    plt.show()"
   ]
  },
  {
   "cell_type": "code",
   "execution_count": 89,
   "metadata": {},
   "outputs": [
    {
     "data": {
      "image/png": "[encoded data removed]",
      "text/plain": [
       "<Figure size 432x288 with 1 Axes>"
      ]
     },
     "metadata": {},
     "output_type": "display_data"
    }
   ],
   "source": [
    "fpr, tpr, thresholds = roc_curve(y_test, predictions_2)\n",
    "plot_roc_curve(fpr, tpr)"
   ]
  },
  {
   "cell_type": "markdown",
   "metadata": {},
   "source": [
    "This model is better."
   ]
  },
  {
   "cell_type": "code",
   "execution_count": null,
   "metadata": {},
   "outputs": [],
   "source": []
  }
 ],
 "metadata": {
  "kernelspec": {
   "display_name": "Python 3",
   "language": "python",
   "name": "python3"
  },
  "language_info": {
   "codemirror_mode": {
    "name": "ipython",
    "version": 3
   },
   "file_extension": ".py",
   "mimetype": "text/x-python",
   "name": "python",
   "nbconvert_exporter": "python",
   "pygments_lexer": "ipython3",
   "version": "3.8.3"
  }
 },
 "nbformat": 4,
 "nbformat_minor": 2
}
